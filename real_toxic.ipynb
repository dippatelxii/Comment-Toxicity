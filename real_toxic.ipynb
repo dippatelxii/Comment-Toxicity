{
 "cells": [
  {
   "cell_type": "code",
   "execution_count": 126,
   "id": "4338df2e-5d36-4fec-b1a5-30e90552ff5f",
   "metadata": {},
   "outputs": [],
   "source": [
    "import os\n",
    "import pandas as pd\n",
    "import tensorflow as tf\n",
    "from tensorflow.keras.layers import TextVectorization, Embedding, Bidirectional, LSTM, Dense\n",
    "from tensorflow.keras.models import Sequential"
   ]
  },
  {
   "cell_type": "code",
   "execution_count": 127,
   "id": "59e97291-7ba3-41de-a210-ca2c810539a8",
   "metadata": {},
   "outputs": [],
   "source": [
    "df = pd.read_csv('train.csv')"
   ]
  },
  {
   "cell_type": "code",
   "execution_count": 128,
   "id": "fa2ac38b-d298-4726-be9e-09a45f6d4083",
   "metadata": {},
   "outputs": [],
   "source": [
    "# Prepare input and target data\n",
    "X = df['comment_text']\n",
    "y = df[df.columns[2:]].values"
   ]
  },
  {
   "cell_type": "code",
   "execution_count": 129,
   "id": "594baa79-6c42-4ee8-8dbc-1982c2a44d49",
   "metadata": {},
   "outputs": [],
   "source": [
    "MAX_FEATURES = 20000 \n",
    "MAX_SEQ_LENGTH = 1800\n",
    "BATCH_SIZE = 16"
   ]
  },
  {
   "cell_type": "code",
   "execution_count": 130,
   "id": "abb0c6f3-80a3-4e97-be33-d7542c68ebd2",
   "metadata": {},
   "outputs": [],
   "source": [
    "vectorizer = TextVectorization(max_tokens=MAX_FEATURES,\n",
    "                               output_sequence_length=MAX_SEQ_LENGTH)\n",
    "vectorizer.adapt(X.values)"
   ]
  },
  {
   "cell_type": "code",
   "execution_count": 131,
   "id": "518c5e96-c59f-42a5-b4e8-07174b0045e0",
   "metadata": {},
   "outputs": [],
   "source": [
    "model = Sequential([\n",
    "    vectorizer,\n",
    "    Embedding(MAX_FEATURES, 32),\n",
    "    Bidirectional(LSTM(32, activation='tanh')),\n",
    "    Dense(128, activation='relu'),\n",
    "    Dense(256, activation='relu'),\n",
    "    Dense(128, activation='relu'),\n",
    "    Dense(6, activation='sigmoid')\n",
    "])"
   ]
  },
  {
   "cell_type": "code",
   "execution_count": 132,
   "id": "524a03f4-d95e-4afb-8114-b6b5a425c281",
   "metadata": {},
   "outputs": [],
   "source": [
    "model.compile(loss='binary_crossentropy', optimizer='adam')"
   ]
  },
  {
   "cell_type": "code",
   "execution_count": 133,
   "id": "6d4c996a-2e6b-420f-b2b4-30fae07a9fb7",
   "metadata": {},
   "outputs": [],
   "source": [
    "dataset = tf.data.Dataset.from_tensor_slices((X.values, y))\n",
    "dataset = dataset.shuffle(len(df)).batch(BATCH_SIZE)"
   ]
  },
  {
   "cell_type": "code",
   "execution_count": 134,
   "id": "31dfe5d3-99cc-4aeb-9c3a-3b12d26d227b",
   "metadata": {},
   "outputs": [],
   "source": [
    "train_size = int(0.7 * len(dataset))\n",
    "val_size = int(0.2 * len(dataset))\n",
    "test_size = len(dataset) - train_size - val_size"
   ]
  },
  {
   "cell_type": "code",
   "execution_count": 135,
   "id": "776557f1-98b9-4ead-9f0d-f564265b3edc",
   "metadata": {},
   "outputs": [],
   "source": [
    "train_dataset = dataset.take(train_size)\n",
    "val_dataset = dataset.skip(train_size).take(val_size)\n",
    "test_dataset = dataset.skip(train_size + val_size).take(test_size)"
   ]
  },
  {
   "cell_type": "code",
   "execution_count": 136,
   "id": "163c292e-72d4-4b79-bd0f-b8b6bbe4260e",
   "metadata": {},
   "outputs": [
    {
     "name": "stdout",
     "output_type": "stream",
     "text": [
      "\u001b[1m6981/6981\u001b[0m \u001b[32m━━━━━━━━━━━━━━━━━━━━\u001b[0m\u001b[37m\u001b[0m \u001b[1m5723s\u001b[0m 819ms/step - loss: 0.0832 - val_loss: 0.0485\n",
      "Training completed successfully.\n"
     ]
    }
   ],
   "source": [
    "try:\n",
    "    history = model.fit(train_dataset, epochs=1, validation_data=val_dataset)\n",
    "    print(\"Training completed successfully.\")\n",
    "except Exception as e:\n",
    "    print(\"An error occurred during training:\", e)"
   ]
  },
  {
   "cell_type": "code",
   "execution_count": 138,
   "id": "0841bace-fafd-447e-8614-cb150be203b1",
   "metadata": {},
   "outputs": [
    {
     "data": {
      "text/plain": [
       "{'loss': [0.06275070458650589], 'val_loss': [0.04847010225057602]}"
      ]
     },
     "execution_count": 138,
     "metadata": {},
     "output_type": "execute_result"
    }
   ],
   "source": [
    "history.history"
   ]
  },
  {
   "cell_type": "code",
   "execution_count": 139,
   "id": "197f47b3-5454-4a6f-a06c-3df2b2d7e178",
   "metadata": {},
   "outputs": [],
   "source": [
    "from matplotlib import pyplot as plt"
   ]
  },
  {
   "cell_type": "code",
   "execution_count": 140,
   "id": "e4bb858c-f4f8-491b-a372-ece68be06843",
   "metadata": {},
   "outputs": [
    {
     "data": {
      "text/plain": [
       "<Figure size 800x500 with 0 Axes>"
      ]
     },
     "metadata": {},
     "output_type": "display_data"
    },
    {
     "data": {
      "image/png": "[encoded data removed]",
      "text/plain": [
       "<Figure size 640x480 with 1 Axes>"
      ]
     },
     "metadata": {},
     "output_type": "display_data"
    }
   ],
   "source": [
    "plt.figure(figsize=(8,5))\n",
    "pd.DataFrame(history.history).plot()\n",
    "plt.show()"
   ]
  },
  {
   "cell_type": "code",
   "execution_count": null,
   "id": "5de5ecf1-76dd-459d-b171-04e1c1dba7f4",
   "metadata": {},
   "outputs": [],
   "source": []
  }
 ],
 "metadata": {
  "kernelspec": {
   "display_name": "toxic",
   "language": "python",
   "name": "toxic"
  },
  "language_info": {
   "codemirror_mode": {
    "name": "ipython",
    "version": 3
   },
   "file_extension": ".py",
   "mimetype": "text/x-python",
   "name": "python",
   "nbconvert_exporter": "python",
   "pygments_lexer": "ipython3",
   "version": "3.12.3"
  }
 },
 "nbformat": 4,
 "nbformat_minor": 5
}
